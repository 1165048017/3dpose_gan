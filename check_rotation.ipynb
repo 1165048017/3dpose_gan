{
 "cells": [
  {
   "cell_type": "code",
   "execution_count": 64,
   "metadata": {},
   "outputs": [
    {
     "data": {
      "text/plain": [
       "<module 'dataset' from 'src/dataset.py'>"
      ]
     },
     "execution_count": 64,
     "metadata": {},
     "output_type": "execute_result"
    }
   ],
   "source": [
    "%matplotlib inline\n",
    "import matplotlib.pyplot as plt\n",
    "import chainer\n",
    "import chainer.functions as F\n",
    "from chainer import Variable\n",
    "import numpy as np\n",
    "import sys\n",
    "sys.path.append('src')\n",
    "import importlib\n",
    "import dataset\n",
    "importlib.reload(dataset)"
   ]
  },
  {
   "cell_type": "code",
   "execution_count": 67,
   "metadata": {},
   "outputs": [],
   "source": [
    "train = dataset.PoseDataset('data/h3.6m', train=True)\n",
    "train_iter = chainer.iterators.SerialIterator(train, batch_size=8, shuffle=False, repeat=False)\n",
    "batch = train_iter.next()\n",
    "batch = train_iter.next()\n",
    "batch = chainer.dataset.concat_examples(batch)\n",
    "xy, z = batch\n",
    "\n",
    "xy = Variable(xy)\n",
    "z_pred = Variable(z)\n",
    "theta = np.random.uniform(0, 2 * np.pi, len(xy)).astype(np.float32)\n",
    "cos_theta = Variable(np.broadcast_to(np.cos(theta), z_pred.shape[::-1]).transpose(3, 2, 1, 0))\n",
    "sin_theta = Variable(np.broadcast_to(np.sin(theta), z_pred.shape[::-1]).transpose(3, 2, 1, 0))\n",
    "x = xy[:, :, :, :17]\n",
    "y = xy[:, :, :, 17:]\n",
    "xy_fake = F.concat((x * cos_theta + z_pred * sin_theta, y), axis=3)"
   ]
  },
  {
   "cell_type": "code",
   "execution_count": 68,
   "metadata": {},
   "outputs": [
    {
     "data": {
      "image/png": "[encoded data removed]",
      "text/plain": [
       "<matplotlib.figure.Figure at 0x7fa26a183eb8>"
      ]
     },
     "metadata": {},
     "output_type": "display_data"
    }
   ],
   "source": [
    "xs = xy.data[0, 0, 0, :17]\n",
    "ys = xy.data[0, 0, 0, 17:]\n",
    "# xs = xy_fake.data[0, 0, 0, :17]\n",
    "# ys = xy_fake.data[0, 0, 0, 17:]\n",
    "ps = np.array([0,1,2,0,4,5,0,7,8,9,8,11,12,8,14,15])\n",
    "qs = np.array([1,2,3,4,5,6,7,8,9,10,11,12,13,14,15,16])\n",
    "for p, q in zip(ps, qs):\n",
    "    plt.plot([xs[p], xs[q]], [ys[p], ys[q]])\n",
    "for i in range(17):\n",
    "    plt.plot([xs[i]], [ys[i]], 'o')\n",
    "plt.xlim([-2.4, 2.4])\n",
    "plt.ylim([-2.0, 1.5])\n",
    "plt.show()"
   ]
  },
  {
   "cell_type": "code",
   "execution_count": null,
   "metadata": {
    "collapsed": true
   },
   "outputs": [],
   "source": []
  }
 ],
 "metadata": {
  "kernelspec": {
   "display_name": "Python 3",
   "language": "python",
   "name": "python3"
  },
  "language_info": {
   "codemirror_mode": {
    "name": "ipython",
    "version": 3
   },
   "file_extension": ".py",
   "mimetype": "text/x-python",
   "name": "python",
   "nbconvert_exporter": "python",
   "pygments_lexer": "ipython3",
   "version": "3.6.1"
  }
 },
 "nbformat": 4,
 "nbformat_minor": 2
}
