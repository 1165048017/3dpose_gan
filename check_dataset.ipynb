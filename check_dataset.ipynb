{
 "cells": [
  {
   "cell_type": "code",
   "execution_count": 1,
   "metadata": {
    "collapsed": true
   },
   "outputs": [],
   "source": [
    "%matplotlib inline\n",
    "import matplotlib.pyplot as plt\n",
    "import importlib\n",
    "import sys\n",
    "sys.path.append('src')\n",
    "import dataset\n",
    "importlib.reload(dataset)\n",
    "import numpy as np\n",
    "import cv2\n",
    "import os"
   ]
  },
  {
   "cell_type": "code",
   "execution_count": 2,
   "metadata": {
    "collapsed": true
   },
   "outputs": [],
   "source": [
    "from progressbar import ProgressBar"
   ]
  },
  {
   "cell_type": "code",
   "execution_count": 3,
   "metadata": {
    "collapsed": true
   },
   "outputs": [],
   "source": [
    "train = dataset.PoseDataset('data/h3.6m', length=32)"
   ]
  },
  {
   "cell_type": "code",
   "execution_count": 6,
   "metadata": {
    "scrolled": false
   },
   "outputs": [
    {
     "name": "stderr",
     "output_type": "stream",
     "text": [
      "100% (32 of 32) |#########################| Elapsed Time: 0:00:07 ETA:  0:00:00"
     ]
    }
   ],
   "source": [
    "a = train.get_example(2000)\n",
    "pbar = ProgressBar(len(a))\n",
    "for j in range(len(a)):\n",
    "    xs, ys, zs = a[j].transpose(1, 0)\n",
    "    ps = np.array([0,1,2,0,4,5,0,7,8,9,8,11,12,8,14,15])\n",
    "    qs = np.array([1,2,3,4,5,6,7,8,9,10,11,12,13,14,15,16])\n",
    "    for p, q in zip(ps, qs):\n",
    "        plt.plot([xs[p], xs[q]], [ys[p], ys[q]])\n",
    "    for i in range(17):\n",
    "        plt.plot([xs[i]], [ys[i]], 'o')\n",
    "    plt.xlim([-2.4, 2.4])\n",
    "    plt.ylim([-2.0, 1.5])\n",
    "    plt.savefig('tmp.png')\n",
    "    plt.close()\n",
    "    img = cv2.imread('tmp.png')\n",
    "    os.remove('tmp.png')\n",
    "    if j == 0:\n",
    "        fourcc = cv2.VideoWriter_fourcc(*'XVID')\n",
    "        out = cv2.VideoWriter('tmp.avi', fourcc, 20.0, (img.shape[1], img.shape[0]))\n",
    "    out.write(img)\n",
    "    pbar.update(j + 1)\n",
    "out.release()"
   ]
  },
  {
   "cell_type": "code",
   "execution_count": null,
   "metadata": {
    "collapsed": true
   },
   "outputs": [],
   "source": []
  }
 ],
 "metadata": {
  "kernelspec": {
   "display_name": "ffmpeg",
   "language": "python",
   "name": "ffmpeg"
  },
  "language_info": {
   "codemirror_mode": {
    "name": "ipython",
    "version": 3
   },
   "file_extension": ".py",
   "mimetype": "text/x-python",
   "name": "python",
   "nbconvert_exporter": "python",
   "pygments_lexer": "ipython3",
   "version": "3.6.1"
  }
 },
 "nbformat": 4,
 "nbformat_minor": 2
}
