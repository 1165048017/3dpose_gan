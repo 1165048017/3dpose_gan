{
 "cells": [
  {
   "cell_type": "code",
   "execution_count": 42,
   "metadata": {
    "collapsed": true
   },
   "outputs": [],
   "source": [
    "%matplotlib inline\n",
    "import matplotlib.pyplot as plt\n",
    "import chainer\n",
    "import chainer.functions as F\n",
    "from chainer import Variable\n",
    "import numpy as np\n",
    "import sys\n",
    "sys.path.append('src')\n",
    "sys.path.append('models')\n",
    "import importlib\n",
    "import dataset\n",
    "import net\n",
    "importlib.reload(dataset)\n",
    "from chainer import serializers\n",
    "import cv2\n",
    "import os\n",
    "from progressbar import ProgressBar\n",
    "import math"
   ]
  },
  {
   "cell_type": "code",
   "execution_count": 45,
   "metadata": {},
   "outputs": [],
   "source": [
    "def color_jet(x):\n",
    "    if x < 0.25:\n",
    "        b = 255\n",
    "        g = x / 0.25 * 255\n",
    "        r = 0\n",
    "    elif x >= 0.25 and x < 0.5:\n",
    "        b = 255 - (x - 0.25) / 0.25 * 255\n",
    "        g = 255\n",
    "        r = 0\n",
    "    elif x >= 0.5 and x < 0.75:\n",
    "        b = 0\n",
    "        g = 255\n",
    "        r = (x - 0.5) / 0.25 * 255\n",
    "    else:\n",
    "        b = 0\n",
    "        g = 255 - (x - 0.75) / 0.25 * 255\n",
    "        r = 255\n",
    "    return int(b), int(g), int(r)\n",
    "\n",
    "def create_img(k, j, i, variable):\n",
    "    ps = np.array([0,1,2,0,4,5,0,7,8,9,8,11,12,8,14,15])\n",
    "    qs = np.array([1,2,3,4,5,6,7,8,9,10,11,12,13,14,15,16])\n",
    "    xs = variable.data[j, 0, i, :17].copy()\n",
    "    ys = variable.data[j, 0, i, 17:].copy()\n",
    "    xs *= 100\n",
    "    xs += 100\n",
    "    ys *= -100\n",
    "    ys += 150\n",
    "    img = np.zeros((350, 200, 3), dtype=np.uint8) + 160\n",
    "    img = cv2.line(img, (100, 0), (100, 350), (255, 255, 255), 1)\n",
    "    img = cv2.line(img, (0, 150), (200, 150), (255, 255, 255), 1)\n",
    "    np.random.seed(3 + row * k + j)\n",
    "    rec_color = tuple(color_jet(np.random.uniform(0, 1)))\n",
    "    img = cv2.rectangle(img, (0, 0), (200, 350), rec_color, 3)\n",
    "    for i, (p, q) in enumerate(zip(ps, qs)):\n",
    "        c = 1 / (len(ps) - 1) * i\n",
    "        b, g, r = color_jet(c)\n",
    "        img = cv2.line(img, (xs[p], ys[p]), (xs[q], ys[q]), (b, g, r), 2)\n",
    "    for i in range(17):\n",
    "        c = 1 / 16 * i\n",
    "        b, g, r = color_jet(c)\n",
    "        img = cv2.circle(img, (xs[i], ys[i]), 3, (b, g, r), 3)\n",
    "    return img"
   ]
  },
  {
   "cell_type": "code",
   "execution_count": 47,
   "metadata": {
    "scrolled": false
   },
   "outputs": [
    {
     "name": "stderr",
     "output_type": "stream",
     "text": [
      "100% (4 of 4) |###########################| Elapsed Time: 0:00:12 ETA:  0:00:00"
     ]
    },
    {
     "name": "stdout",
     "output_type": "stream",
     "text": [
      "Saving video ...\n",
      "Done!\n"
     ]
    }
   ],
   "source": [
    "col, row = 4, 4\n",
    "l_seq = 64\n",
    "imgs = np.zeros((l_seq, 350 * col, 600 * row, 3), dtype=np.uint8)\n",
    "model = net.ConvAE(l_latent=64, l_seq=l_seq)\n",
    "model_path = 'results/2017-12-05_15-36-37/gen_epoch_754.npz'\n",
    "serializers.load_npz(model_path, model)\n",
    "train = dataset.PoseDataset('data/h3.6m', length=l_seq, train=False)\n",
    "train_iter = chainer.iterators.SerialIterator(train, batch_size=row, shuffle=True, repeat=False)\n",
    "with chainer.no_backprop_mode(), chainer.using_config('train', False):\n",
    "    pbar = ProgressBar(col)\n",
    "    for k in range(col):\n",
    "        batch = train_iter.next()\n",
    "        batch = chainer.dataset.concat_examples(batch)\n",
    "        xy, z = batch\n",
    "        xy = Variable(xy)\n",
    "        z_pred = model(xy)\n",
    "        theta = np.array([np.pi / 2] * len(xy), dtype=np.float32)\n",
    "        cos_theta = Variable(np.broadcast_to(np.cos(theta), z_pred.shape[::-1]).transpose(3, 2, 1, 0))\n",
    "        sin_theta = Variable(np.broadcast_to(np.sin(theta), z_pred.shape[::-1]).transpose(3, 2, 1, 0))\n",
    "        x = xy[:, :, :, :17]\n",
    "        y = xy[:, :, :, 17:]\n",
    "        real = F.concat((x * cos_theta + z * sin_theta, y), axis=3)\n",
    "        fake = F.concat((x * cos_theta + z_pred * sin_theta, y), axis=3)\n",
    "        \n",
    "        for j in range(row):\n",
    "            for i in range(l_seq):\n",
    "                im0 = create_img(k, j, i, xy)\n",
    "                im1 = create_img(k, j, i, real)\n",
    "                im2 = create_img(k, j, i, fake)\n",
    "                imgs[i, k*350:(k+1)*350, j*600:(j+1)*600] = np.concatenate((im0, im1, im2), axis=1)\n",
    "        pbar.update(k + 1)\n",
    "\n",
    "print('Saving video ...')\n",
    "fourcc = cv2.VideoWriter_fourcc(*'H264')\n",
    "if not os.path.exists(os.path.join(os.path.dirname(model_path), 'videos')):\n",
    "    os.mkdir(os.path.join(os.path.dirname(model_path), 'videos'))\n",
    "video_name = os.path.join(os.path.dirname(model_path), 'videos',\n",
    "                          os.path.basename(model_path).replace('.npz', '.mp4'))\n",
    "out = cv2.VideoWriter(video_name, fourcc, 20.0, (imgs.shape[2], imgs.shape[1]))\n",
    "for img in imgs:\n",
    "    out.write(img)\n",
    "out.release()\n",
    "print('Done!')"
   ]
  },
  {
   "cell_type": "code",
   "execution_count": null,
   "metadata": {
    "collapsed": true
   },
   "outputs": [],
   "source": []
  }
 ],
 "metadata": {
  "kernelspec": {
   "display_name": "ffmpeg",
   "language": "python",
   "name": "ffmpeg"
  },
  "language_info": {
   "codemirror_mode": {
    "name": "ipython",
    "version": 3
   },
   "file_extension": ".py",
   "mimetype": "text/x-python",
   "name": "python",
   "nbconvert_exporter": "python",
   "pygments_lexer": "ipython3",
   "version": "3.6.1"
  }
 },
 "nbformat": 4,
 "nbformat_minor": 2
}
